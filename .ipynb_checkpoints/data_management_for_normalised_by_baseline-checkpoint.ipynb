{
 "cells": [
  {
   "cell_type": "markdown",
   "id": "adff25cb-2f21-45a2-840d-620b33e94161",
   "metadata": {},
   "source": [
    "## Objective\n",
    "\n",
    "Load and save the DWI data normalised with its own B0. Save according to the different masks.\n",
    "\n",
    "- Mask 1: Original WM mask on subset of data (~2000 voxels)\n",
    "- Mask 2: Full WM mask with much more data (~7000 voxels)\n",
    "- Mask 3: WM mask with smaller subset of data with myelin-derived ODI measures (~1700 voxels)\n"
   ]
  },
  {
   "cell_type": "code",
   "execution_count": 1,
   "id": "8f430368-eaf0-4534-b880-07329e3c95d6",
   "metadata": {},
   "outputs": [],
   "source": [
    "import numpy as np\n",
    "from bench import change_model as ch, diffusion_models as dm, acquisition as acq, model_inversion as inv, summary_measures as sm\n",
    "from bench import acquisition, summary_measures\n",
    "from sklearn.metrics import confusion_matrix\n",
    "import scipy.stats as stats\n",
    "import pickle\n",
    "import matplotlib.pyplot as plt\n",
    "from scipy import stats\n",
    "\n",
    "from bench.diffusion_models import stick, cigar, bingham_zeppelin\n",
    "\n",
    "from nibabel import load\n",
    "\n",
    "from os.path import join\n",
    "import numpy as np\n",
    "\n",
    "from importlib import reload"
   ]
  },
  {
   "cell_type": "code",
   "execution_count": 6,
   "id": "6d8108f8-0a0f-4b5f-ab11-a96bf51d8c30",
   "metadata": {},
   "outputs": [],
   "source": [
    "import os\n",
    "\n",
    "def create_folder(folder):\n",
    "    if not os.path.exists(folder):\n",
    "        os.makedirs(folder)\n",
    "\n",
    "    return folder"
   ]
  },
  {
   "cell_type": "markdown",
   "id": "fa14ebe9-cc8e-45ac-8fe0-7608b0b3b463",
   "metadata": {},
   "source": [
    "## DW-data"
   ]
  },
  {
   "cell_type": "code",
   "execution_count": 2,
   "id": "64102176-dfb2-4ba1-9e5d-242124e20326",
   "metadata": {},
   "outputs": [],
   "source": [
    "data_7k =  \"/Users/dkor/OneDrive - Nexus365/BigMac/MRI/Postmortem/dwi/b07k/1.0mm/data_gibbsCorr_reg_detrend_norm.nii.gz\"\n",
    "S0_7k = \"/Users/dkor/OneDrive - Nexus365/BigMac/MRI/Postmortem/dwi/b07k/1.0mm/S0.nii.gz\"\n",
    "\n",
    "data7k_img = load(data_7k).get_fdata()\n",
    "S07k_img = load(S0_7k).get_fdata()\n",
    "\n",
    "data_10k =  \"/Users/dkor/OneDrive - Nexus365/BigMac/MRI/Postmortem/dwi/b10k/1.0mm/data_gibbsCorr_reg_detrend.nii.gz\"\n",
    "S0_10k = \"/Users/dkor/OneDrive - Nexus365/BigMac/MRI/Postmortem/dwi/b10k/1.0mm/S0.nii.gz\"\n",
    "\n",
    "data10k_img = load(data_10k).get_fdata()\n",
    "S010k_img = load(S0_10k).get_fdata()\n",
    "\n",
    "S010k = np.repeat(S010k_img[..., np.newaxis], data10k_img.shape[-1], axis=-1)\n",
    "S07k = np.repeat(S07k_img[..., np.newaxis], data7k_img.shape[-1], axis=-1)\n",
    "\n",
    "data10k_img_normalised = data10k_img/S010k\n",
    "data07k_img_normalised = data7k_img/S07k"
   ]
  },
  {
   "cell_type": "code",
   "execution_count": 3,
   "id": "e8c52564-1331-4543-9f92-feb595f12060",
   "metadata": {},
   "outputs": [],
   "source": [
    "data_normalised = np.concatenate((data07k_img_normalised, data10k_img_normalised), axis=-1)"
   ]
  },
  {
   "cell_type": "markdown",
   "id": "f8ed4b9d-9b58-405b-aaac-f05500bf8763",
   "metadata": {},
   "source": [
    "## Microscopy"
   ]
  },
  {
   "cell_type": "code",
   "execution_count": 4,
   "id": "9c676cb8-0a92-4b71-8539-16f3ce31a3db",
   "metadata": {},
   "outputs": [],
   "source": [
    "## ==== Loading the data ==== ##\n",
    "\n",
    "saf_cresyl = \"/Users/dkor/OneDrive - Nexus365/BigMac/Microscopy/Cresyl/MicroInMRI/dwi_b10k1.0mm/2023-01-19_dwi_b10k1.0mm_SAF_moderate.nii.gz\"\n",
    "saf_cresyl_img = load(saf_cresyl).get_fdata()\n",
    "\n",
    "saf_gallyas = \"/Users/dkor/OneDrive - Nexus365/BigMac/Microscopy/Gallyas/MicroInMRI/dwi_b10k1.0mm/2023-01-19_dwi_b10k1.0mm_SAF_stronger.nii.gz\"\n",
    "saf_gallyas_img = load(saf_gallyas).get_fdata()"
   ]
  },
  {
   "cell_type": "markdown",
   "id": "67535fc0-effe-44ac-9343-e934e63e45eb",
   "metadata": {},
   "source": [
    "## Mask 1"
   ]
  },
  {
   "cell_type": "code",
   "execution_count": 9,
   "id": "3a3a9ecd-f1f0-4032-ac68-337f817dfe72",
   "metadata": {},
   "outputs": [],
   "source": [
    "combined_mask = load(\"/Users/dkor/OneDrive - Nexus365/BigMac/Analysis/masks/mask_1.nii.gz\").get_fdata()>0"
   ]
  },
  {
   "cell_type": "code",
   "execution_count": 14,
   "id": "50439290-add4-44fa-b3fd-d6ac177632f7",
   "metadata": {},
   "outputs": [],
   "source": [
    "## ==== Bookkeeping of data ==== ##\n",
    "\n",
    "dwi_mask = np.repeat(combined_mask[..., np.newaxis], data_normalised.shape[-1], axis=-1)\n",
    "\n",
    "## === Make sure the DWI and SAF values correspond === ## \n",
    "\n",
    "data = data_normalised\n",
    "\n",
    "flatten_dwi = data.reshape(-1, data.shape[-1])\n",
    "flattened_mask = combined_mask.flatten()\n",
    "\n",
    "from numpy.ma import MaskedArray\n",
    "\n",
    "masked_cresyl = MaskedArray(saf_cresyl_img, mask=~combined_mask)\n",
    "masked_gallyas = MaskedArray(saf_gallyas_img, mask=~combined_mask)\n",
    "\n",
    "flattened_masked_dwi = flatten_dwi[flattened_mask,:]\n",
    "flattened_masked_cresyl = masked_cresyl.compressed()\n",
    "flattened_masked_gallyas = masked_gallyas.compressed()"
   ]
  },
  {
   "cell_type": "code",
   "execution_count": 23,
   "id": "40445d1a-a1a6-4e91-9880-9fe41660518c",
   "metadata": {},
   "outputs": [
    {
     "data": {
      "text/plain": [
       "(2103, 2080)"
      ]
     },
     "execution_count": 23,
     "metadata": {},
     "output_type": "execute_result"
    }
   ],
   "source": [
    "flattened_masked_dwi.shape"
   ]
  },
  {
   "cell_type": "code",
   "execution_count": 20,
   "id": "669501aa-bc27-4554-9ee9-c9581fd3ef5d",
   "metadata": {},
   "outputs": [],
   "source": [
    "np.savez_compressed(\"/Users/dkor/OneDrive - Nexus365/BigMac/Analysis/microscopy/mask_1/SAFs\",\n",
    "                    a=flattened_masked_cresyl,\n",
    "                    b=flattened_masked_gallyas)"
   ]
  },
  {
   "cell_type": "code",
   "execution_count": 24,
   "id": "8d03eee5-0950-45f3-a7c3-114f25a39482",
   "metadata": {},
   "outputs": [],
   "source": [
    "np.savez_compressed(\"/Users/dkor/OneDrive - Nexus365/BigMac/Analysis/DWdata/self_normalised/mask_1/dwi\", a=flattened_masked_dwi)"
   ]
  },
  {
   "cell_type": "markdown",
   "id": "1c147df8-4f33-491a-a544-1d53e0eaf1f7",
   "metadata": {},
   "source": [
    "## Mask 2"
   ]
  },
  {
   "cell_type": "code",
   "execution_count": 25,
   "id": "84b0556c-67fb-4654-8a85-fa9c7a71c459",
   "metadata": {},
   "outputs": [],
   "source": [
    "combined_mask = load(\"/Users/dkor/OneDrive - Nexus365/BigMac/Analysis/masks/mask_2.nii.gz\").get_fdata()>0"
   ]
  },
  {
   "cell_type": "code",
   "execution_count": 26,
   "id": "1183d161-36bc-46ea-9fe5-7906fb648c8a",
   "metadata": {},
   "outputs": [],
   "source": [
    "## ==== Bookkeeping of data ==== ##\n",
    "\n",
    "dwi_mask = np.repeat(combined_mask[..., np.newaxis], data_normalised.shape[-1], axis=-1)\n",
    "\n",
    "## === Make sure the DWI and SAF values correspond === ## \n",
    "\n",
    "data = data_normalised\n",
    "\n",
    "flatten_dwi = data.reshape(-1, data.shape[-1])\n",
    "flattened_mask = combined_mask.flatten()\n",
    "\n",
    "from numpy.ma import MaskedArray\n",
    "\n",
    "masked_cresyl = MaskedArray(saf_cresyl_img, mask=~combined_mask)\n",
    "masked_gallyas = MaskedArray(saf_gallyas_img, mask=~combined_mask)\n",
    "\n",
    "flattened_masked_dwi = flatten_dwi[flattened_mask,:]\n",
    "flattened_masked_cresyl = masked_cresyl.compressed()\n",
    "flattened_masked_gallyas = masked_gallyas.compressed()"
   ]
  },
  {
   "cell_type": "code",
   "execution_count": 28,
   "id": "17bb1388-7184-4d06-b2ca-5a5afd56f6ed",
   "metadata": {},
   "outputs": [
    {
     "data": {
      "text/plain": [
       "((6679, 2080), (6679,), (6679,))"
      ]
     },
     "execution_count": 28,
     "metadata": {},
     "output_type": "execute_result"
    }
   ],
   "source": [
    "flattened_masked_dwi.shape, flattened_masked_cresyl.shape, flattened_masked_gallyas.shape"
   ]
  },
  {
   "cell_type": "code",
   "execution_count": 29,
   "id": "d8fbc0d5-c971-4900-af78-a4d059d7cf90",
   "metadata": {},
   "outputs": [],
   "source": [
    "np.savez_compressed(\"/Users/dkor/OneDrive - Nexus365/BigMac/Analysis/microscopy/mask_2/SAFs\",\n",
    "                    a=flattened_masked_cresyl,\n",
    "                    b=flattened_masked_gallyas)"
   ]
  },
  {
   "cell_type": "code",
   "execution_count": 30,
   "id": "1ba14bd7-f5ac-49a6-b05c-25b5a434e4f5",
   "metadata": {},
   "outputs": [],
   "source": [
    "np.savez_compressed(\"/Users/dkor/OneDrive - Nexus365/BigMac/Analysis/DWdata/self_normalised/mask_2/dwi\", a=flattened_masked_dwi)"
   ]
  },
  {
   "cell_type": "markdown",
   "id": "f6a806dd-b913-4be2-a58b-d424fe489f81",
   "metadata": {},
   "source": [
    "## Mask 3"
   ]
  },
  {
   "cell_type": "code",
   "execution_count": 31,
   "id": "107bd26a-91a2-450d-a25d-db28746133d6",
   "metadata": {},
   "outputs": [],
   "source": [
    "combined_mask = load(\"/Users/dkor/OneDrive - Nexus365/BigMac/Analysis/masks/mask_3.nii.gz\").get_fdata()>0"
   ]
  },
  {
   "cell_type": "code",
   "execution_count": 32,
   "id": "b49d2f28-6df6-40b1-823c-c0f58dbb6d2e",
   "metadata": {},
   "outputs": [
    {
     "ename": "NameError",
     "evalue": "name 'histo_odi_data_img' is not defined",
     "output_type": "error",
     "traceback": [
      "\u001b[0;31m---------------------------------------------------------------------------\u001b[0m",
      "\u001b[0;31mNameError\u001b[0m                                 Traceback (most recent call last)",
      "Cell \u001b[0;32mIn [32], line 21\u001b[0m\n\u001b[1;32m     18\u001b[0m flattened_masked_cresyl \u001b[38;5;241m=\u001b[39m masked_cresyl\u001b[38;5;241m.\u001b[39mcompressed()\n\u001b[1;32m     19\u001b[0m flattened_masked_gallyas \u001b[38;5;241m=\u001b[39m masked_gallyas\u001b[38;5;241m.\u001b[39mcompressed()\n\u001b[0;32m---> 21\u001b[0m masked_histo_odis \u001b[38;5;241m=\u001b[39m MaskedArray(\u001b[43mhisto_odi_data_img\u001b[49m, mask\u001b[38;5;241m=\u001b[39m\u001b[38;5;241m~\u001b[39mcombined_mask)\n\u001b[1;32m     22\u001b[0m flattened_masked_histo_odi \u001b[38;5;241m=\u001b[39m masked_histo_odis\u001b[38;5;241m.\u001b[39mcompressed()\n",
      "\u001b[0;31mNameError\u001b[0m: name 'histo_odi_data_img' is not defined"
     ]
    }
   ],
   "source": [
    "## ==== Bookkeeping of data ==== ##\n",
    "\n",
    "dwi_mask = np.repeat(combined_mask[..., np.newaxis], data_normalised.shape[-1], axis=-1)\n",
    "\n",
    "## === Make sure the DWI and SAF values correspond === ## \n",
    "\n",
    "data = data_normalised\n",
    "\n",
    "flatten_dwi = data.reshape(-1, data.shape[-1])\n",
    "flattened_mask = combined_mask.flatten()\n",
    "\n",
    "from numpy.ma import MaskedArray\n",
    "\n",
    "masked_cresyl = MaskedArray(saf_cresyl_img, mask=~combined_mask)\n",
    "masked_gallyas = MaskedArray(saf_gallyas_img, mask=~combined_mask)\n",
    "\n",
    "flattened_masked_dwi = flatten_dwi[flattened_mask,:]\n",
    "flattened_masked_cresyl = masked_cresyl.compressed()\n",
    "flattened_masked_gallyas = masked_gallyas.compressed()\n",
    "\n",
    "masked_histo_odis = MaskedArray(histo_odi_data_img, mask=~combined_mask)\n",
    "flattened_masked_histo_odi = masked_histo_odis.compressed()"
   ]
  },
  {
   "cell_type": "code",
   "execution_count": null,
   "id": "e731623c-df22-4fc9-a194-329ed0db303b",
   "metadata": {},
   "outputs": [],
   "source": [
    "flattened_masked_dwi.shape, flattened_masked_cresyl.shape, flattened_masked_gallyas.shape, flattened_masked_histo_odi.shape"
   ]
  },
  {
   "cell_type": "code",
   "execution_count": null,
   "id": "bf282b69-7b3a-4b11-a528-a396bf03ae91",
   "metadata": {},
   "outputs": [],
   "source": [
    "np.savez_compressed(\"/Users/dkor/OneDrive - Nexus365/BigMac/Analysis/microscopy/mask_2/SAFs\",\n",
    "                    a=flattened_masked_cresyl,\n",
    "                    b=flattened_masked_gallyas)"
   ]
  }
 ],
 "metadata": {
  "kernelspec": {
   "display_name": "Python 3 (ipykernel)",
   "language": "python",
   "name": "python3"
  },
  "language_info": {
   "codemirror_mode": {
    "name": "ipython",
    "version": 3
   },
   "file_extension": ".py",
   "mimetype": "text/x-python",
   "name": "python",
   "nbconvert_exporter": "python",
   "pygments_lexer": "ipython3",
   "version": "3.8.15"
  }
 },
 "nbformat": 4,
 "nbformat_minor": 5
}
